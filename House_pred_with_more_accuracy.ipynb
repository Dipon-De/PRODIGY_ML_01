{
 "cells": [
  {
   "cell_type": "code",
   "execution_count": 2,
   "id": "dbb1009b",
   "metadata": {},
   "outputs": [],
   "source": [
    "import numpy as np\n",
    "import pandas as pd\n",
    "import os\n",
    "import matplotlib.pyplot as plt\n",
    "import matplotlib\n",
    "import warnings"
   ]
  },
  {
   "cell_type": "code",
   "execution_count": 3,
   "id": "f86ffb42",
   "metadata": {},
   "outputs": [
    {
     "name": "stdout",
     "output_type": "stream",
     "text": [
      "D:\\Programming\\ML\\Prodigy_Infotech\\TASK_1_House_price_predictor\\data\\Housing.csv\n"
     ]
    }
   ],
   "source": [
    "for root, dirs, files in os.walk(\"D:\\Programming\\ML\\Prodigy_Infotech\\TASK_1_House_price_predictor\\data\"):\n",
    "    for file in files:\n",
    "        print(os.path.join(root, file))"
   ]
  },
  {
   "cell_type": "code",
   "execution_count": 4,
   "id": "26446034",
   "metadata": {},
   "outputs": [],
   "source": [
    "matplotlib.rcParams[\"figure.figsize\"] = (20, 10)"
   ]
  },
  {
   "cell_type": "code",
   "execution_count": 5,
   "id": "a8ca241d",
   "metadata": {},
   "outputs": [],
   "source": [
    "warnings.filterwarnings(\"ignore\")"
   ]
  },
  {
   "cell_type": "code",
   "execution_count": 6,
   "id": "9f242425",
   "metadata": {},
   "outputs": [
    {
     "name": "stdout",
     "output_type": "stream",
     "text": [
      "              area_type   availability                  location       size  \\\n",
      "0  Super built-up  Area         19-Dec  Electronic City Phase II      2 BHK   \n",
      "1            Plot  Area  Ready To Move          Chikka Tirupathi  4 Bedroom   \n",
      "2        Built-up  Area  Ready To Move               Uttarahalli      3 BHK   \n",
      "3  Super built-up  Area  Ready To Move        Lingadheeranahalli      3 BHK   \n",
      "4  Super built-up  Area  Ready To Move                  Kothanur      2 BHK   \n",
      "\n",
      "   society total_sqft  bath  balcony   price  \n",
      "0  Coomee        1056   2.0      1.0   39.07  \n",
      "1  Theanmp       2600   5.0      3.0  120.00  \n",
      "2      NaN       1440   2.0      3.0   62.00  \n",
      "3  Soiewre       1521   3.0      1.0   95.00  \n",
      "4      NaN       1200   2.0      1.0   51.00  \n"
     ]
    }
   ],
   "source": [
    "data = pd.read_csv(\"D:\\Programming\\ML\\Prodigy_Infotech\\TASK_1_House_price_predictor\\data\\Housing.csv\")\n",
    "print(data.head())"
   ]
  },
  {
   "cell_type": "code",
   "execution_count": 7,
   "id": "8f81e109",
   "metadata": {},
   "outputs": [
    {
     "name": "stdout",
     "output_type": "stream",
     "text": [
      "(13320, 9)\n"
     ]
    }
   ],
   "source": [
    "print(data.shape)"
   ]
  },
  {
   "cell_type": "code",
   "execution_count": 8,
   "id": "050836c5",
   "metadata": {},
   "outputs": [
    {
     "name": "stdout",
     "output_type": "stream",
     "text": [
      "                   location       size total_sqft  bath   price\n",
      "0  Electronic City Phase II      2 BHK       1056   2.0   39.07\n",
      "1          Chikka Tirupathi  4 Bedroom       2600   5.0  120.00\n",
      "2               Uttarahalli      3 BHK       1440   2.0   62.00\n",
      "3        Lingadheeranahalli      3 BHK       1521   3.0   95.00\n",
      "4                  Kothanur      2 BHK       1200   2.0   51.00\n"
     ]
    }
   ],
   "source": [
    "data_cleaned = data.drop([\"area_type\", \"availability\", \"society\", \"balcony\", \"availability\"], axis=1)\n",
    "print(data_cleaned.head())"
   ]
  },
  {
   "cell_type": "code",
   "execution_count": 9,
   "id": "be950c4e",
   "metadata": {},
   "outputs": [
    {
     "name": "stdout",
     "output_type": "stream",
     "text": [
      "location      0\n",
      "size          0\n",
      "total_sqft    0\n",
      "bath          0\n",
      "price         0\n",
      "dtype: int64\n",
      "(13246, 5)\n"
     ]
    }
   ],
   "source": [
    "data_cleaned = data_cleaned.dropna()\n",
    "print(data_cleaned.isnull().sum())\n",
    "print(data_cleaned.shape)"
   ]
  },
  {
   "cell_type": "code",
   "execution_count": 10,
   "id": "80460393",
   "metadata": {},
   "outputs": [
    {
     "name": "stdout",
     "output_type": "stream",
     "text": [
      "                   location total_sqft  bath   price  bhk\n",
      "0  Electronic City Phase II       1056   2.0   39.07    2\n",
      "1          Chikka Tirupathi       2600   5.0  120.00    4\n",
      "2               Uttarahalli       1440   2.0   62.00    3\n",
      "3        Lingadheeranahalli       1521   3.0   95.00    3\n",
      "4                  Kothanur       1200   2.0   51.00    2\n"
     ]
    }
   ],
   "source": [
    "data_cleaned['bhk'] = data_cleaned['size'].apply(lambda x: int(x.split(' ')[0]))\n",
    "data_cleaned = data_cleaned.drop(\"size\", axis=1)\n",
    "print(data_cleaned.head())"
   ]
  },
  {
   "cell_type": "code",
   "execution_count": 11,
   "id": "28abe6d1",
   "metadata": {},
   "outputs": [],
   "source": [
    "# Function to check if the value can be converted to float\n",
    "def is_convertible_to_float(value):\n",
    "    try:\n",
    "        float(value)\n",
    "        return True\n",
    "    except:\n",
    "        return False"
   ]
  },
  {
   "cell_type": "code",
   "execution_count": 12,
   "id": "a2e7d4aa",
   "metadata": {},
   "outputs": [],
   "source": [
    "# Convert 'total_sqft' from range to average if applicable\n",
    "def convert_range(value):\n",
    "    parts = value.split('-')\n",
    "    if len(parts) == 2:\n",
    "        return (float(parts[0]) + float(parts[1])) / 2\n",
    "    try:\n",
    "        return float(value)\n",
    "    except:\n",
    "        return None"
   ]
  },
  {
   "cell_type": "code",
   "execution_count": 13,
   "id": "194a6b80",
   "metadata": {},
   "outputs": [
    {
     "name": "stdout",
     "output_type": "stream",
     "text": [
      "(13200, 5)\n"
     ]
    }
   ],
   "source": [
    "data_cleaned['total_sqft'] = data_cleaned['total_sqft'].apply(convert_range)\n",
    "data_cleaned = data_cleaned.dropna()\n",
    "print(data_cleaned.shape)"
   ]
  },
  {
   "cell_type": "code",
   "execution_count": 14,
   "id": "ddfc3cc1",
   "metadata": {},
   "outputs": [
    {
     "name": "stdout",
     "output_type": "stream",
     "text": [
      "                   location  total_sqft  bath   price  bhk  price_per_sqft\n",
      "0  Electronic City Phase II      1056.0   2.0   39.07    2     3699.810606\n",
      "1          Chikka Tirupathi      2600.0   5.0  120.00    4     4615.384615\n",
      "2               Uttarahalli      1440.0   2.0   62.00    3     4305.555556\n",
      "3        Lingadheeranahalli      1521.0   3.0   95.00    3     6245.890861\n",
      "4                  Kothanur      1200.0   2.0   51.00    2     4250.000000\n"
     ]
    }
   ],
   "source": [
    "data_cleaned['price_per_sqft'] = data_cleaned['price'] * 100000 / data_cleaned['total_sqft']\n",
    "print(data_cleaned.head())"
   ]
  },
  {
   "cell_type": "code",
   "execution_count": 15,
   "id": "a598e1c8",
   "metadata": {},
   "outputs": [],
   "source": [
    "data_cleaned['location'] = data_cleaned['location'].apply(lambda x: x.strip())\n",
    "location_stats = data_cleaned['location'].value_counts()"
   ]
  },
  {
   "cell_type": "code",
   "execution_count": 16,
   "id": "444e3be7",
   "metadata": {},
   "outputs": [
    {
     "name": "stdout",
     "output_type": "stream",
     "text": [
      "241\n"
     ]
    }
   ],
   "source": [
    "less_frequent_locations = location_stats[location_stats <= 10]\n",
    "data_cleaned['location'] = data_cleaned['location'].apply(lambda x: 'other' if x in less_frequent_locations else x)\n",
    "print(data_cleaned['location'].nunique())"
   ]
  },
  {
   "cell_type": "code",
   "execution_count": 17,
   "id": "aa0ac8ca",
   "metadata": {},
   "outputs": [
    {
     "name": "stdout",
     "output_type": "stream",
     "text": [
      "(12456, 6)\n"
     ]
    }
   ],
   "source": [
    "data_cleaned = data_cleaned[~(data_cleaned['total_sqft'] / data_cleaned['bhk'] < 300)]\n",
    "print(data_cleaned.shape)"
   ]
  },
  {
   "cell_type": "code",
   "execution_count": 18,
   "id": "410d7951",
   "metadata": {},
   "outputs": [
    {
     "name": "stdout",
     "output_type": "stream",
     "text": [
      "(10242, 6)\n"
     ]
    }
   ],
   "source": [
    "def eliminate_outliers(df):\n",
    "    df_filtered = pd.DataFrame()\n",
    "    for key, group in df.groupby('location'):\n",
    "        mean = np.mean(group.price_per_sqft)\n",
    "        std = np.std(group.price_per_sqft)\n",
    "        df_filtered = pd.concat([df_filtered, group[(group.price_per_sqft > (mean - std)) & (group.price_per_sqft < (mean + std))]], ignore_index=True)\n",
    "    return df_filtered\n",
    "\n",
    "data_filtered = eliminate_outliers(data_cleaned)\n",
    "print(data_filtered.shape)"
   ]
  },
  {
   "cell_type": "code",
   "execution_count": 20,
   "id": "069ec878",
   "metadata": {},
   "outputs": [
    {
     "name": "stdout",
     "output_type": "stream",
     "text": [
      "(7317, 6)\n"
     ]
    }
   ],
   "source": [
    "# Function to remove BHK outliers based on mean price per square feet of other BHKs\n",
    "def remove_bhk_outliers(df):\n",
    "    indices_to_remove = np.array([])\n",
    "    for location, group in df.groupby('location'):\n",
    "        bhk_stats = {}\n",
    "        for bhk, bhk_group in group.groupby('bhk'):\n",
    "            bhk_stats[bhk] = {\n",
    "                'mean': np.mean(bhk_group.price_per_sqft),\n",
    "                'std': np.std(bhk_group.price_per_sqft),\n",
    "                'count': bhk_group.shape[0]\n",
    "            }\n",
    "        for bhk, bhk_group in group.groupby('bhk'):\n",
    "            stats = bhk_stats.get(bhk - 1)\n",
    "            if stats and stats['count'] > 5:\n",
    "                indices_to_remove = np.append(indices_to_remove, bhk_group[bhk_group.price_per_sqft < stats['mean']].index.values)\n",
    "    return df.drop(indices_to_remove, axis='index')\n",
    "\n",
    "data_filtered = remove_bhk_outliers(data_filtered)\n",
    "print(data_filtered.shape)"
   ]
  },
  {
   "cell_type": "code",
   "execution_count": 21,
   "id": "f6352371",
   "metadata": {},
   "outputs": [
    {
     "data": {
      "image/png": "[encoded data removed]",
      "text/plain": [
       "<Figure size 2000x1000 with 1 Axes>"
      ]
     },
     "metadata": {},
     "output_type": "display_data"
    }
   ],
   "source": [
    "plt.hist(data_filtered.price_per_sqft, rwidth=0.9)\n",
    "plt.xlabel(\"Price Per Sqft\")\n",
    "plt.ylabel(\"Count\")\n",
    "plt.show()"
   ]
  },
  {
   "cell_type": "code",
   "execution_count": 22,
   "id": "51348c27",
   "metadata": {},
   "outputs": [
    {
     "name": "stdout",
     "output_type": "stream",
     "text": [
      "(7239, 6)\n"
     ]
    }
   ],
   "source": [
    "data_filtered = data_filtered[data_filtered.bath < data_filtered.bhk + 2]\n",
    "print(data_filtered.shape)"
   ]
  },
  {
   "cell_type": "code",
   "execution_count": 23,
   "id": "4fdbe4c6",
   "metadata": {},
   "outputs": [
    {
     "name": "stdout",
     "output_type": "stream",
     "text": [
      "   total_sqft  bath  price  bhk  1st Block Jayanagar  1st Phase JP Nagar  \\\n",
      "0      2850.0   4.0  428.0    4                 True               False   \n",
      "1      1630.0   3.0  194.0    3                 True               False   \n",
      "2      1875.0   2.0  235.0    3                 True               False   \n",
      "3      1200.0   2.0  130.0    3                 True               False   \n",
      "4      1235.0   2.0  148.0    2                 True               False   \n",
      "\n",
      "   2nd Phase Judicial Layout  2nd Stage Nagarbhavi  5th Block Hbr Layout  \\\n",
      "0                      False                 False                 False   \n",
      "1                      False                 False                 False   \n",
      "2                      False                 False                 False   \n",
      "3                      False                 False                 False   \n",
      "4                      False                 False                 False   \n",
      "\n",
      "   5th Phase JP Nagar  ...  Vishveshwarya Layout  Vishwapriya Layout  \\\n",
      "0               False  ...                 False               False   \n",
      "1               False  ...                 False               False   \n",
      "2               False  ...                 False               False   \n",
      "3               False  ...                 False               False   \n",
      "4               False  ...                 False               False   \n",
      "\n",
      "   Vittasandra  Whitefield  Yelachenahalli  Yelahanka  Yelahanka New Town  \\\n",
      "0        False       False           False      False               False   \n",
      "1        False       False           False      False               False   \n",
      "2        False       False           False      False               False   \n",
      "3        False       False           False      False               False   \n",
      "4        False       False           False      False               False   \n",
      "\n",
      "   Yelenahalli  Yeshwanthpur  other  \n",
      "0        False         False  False  \n",
      "1        False         False  False  \n",
      "2        False         False  False  \n",
      "3        False         False  False  \n",
      "4        False         False  False  \n",
      "\n",
      "[5 rows x 245 columns]\n"
     ]
    }
   ],
   "source": [
    "data_final = data_filtered.drop(\"price_per_sqft\", axis=1)\n",
    "location_dummies = pd.get_dummies(data_final['location'])\n",
    "data_final = pd.concat([data_final.drop('location', axis=1), location_dummies], axis=1)\n",
    "print(data_final.head())"
   ]
  },
  {
   "cell_type": "code",
   "execution_count": 24,
   "id": "0bd0a7b9",
   "metadata": {},
   "outputs": [],
   "source": [
    "# model \n",
    "from sklearn.model_selection import train_test_split\n",
    "from sklearn.linear_model import LinearRegression\n",
    "from sklearn.model_selection import ShuffleSplit\n",
    "from sklearn.model_selection import cross_val_score\n",
    "from sklearn.model_selection import GridSearchCV\n",
    "from sklearn.linear_model import Lasso\n",
    "from sklearn.tree import DecisionTreeRegressor"
   ]
  },
  {
   "cell_type": "code",
   "execution_count": 25,
   "id": "9a413470",
   "metadata": {},
   "outputs": [],
   "source": [
    "X = data_final.drop(\"price\", axis=1)\n",
    "y = data_final[\"price\"]"
   ]
  },
  {
   "cell_type": "code",
   "execution_count": 26,
   "id": "cadff615",
   "metadata": {},
   "outputs": [],
   "source": [
    "X_train, X_test, y_train, y_test = train_test_split(X, y, test_size=0.2, random_state=10)"
   ]
  },
  {
   "cell_type": "code",
   "execution_count": 27,
   "id": "9c6bf46e",
   "metadata": {},
   "outputs": [
    {
     "name": "stdout",
     "output_type": "stream",
     "text": [
      "0.861132872781558\n"
     ]
    }
   ],
   "source": [
    "lr = LinearRegression()\n",
    "lr.fit(X_train, y_train)\n",
    "print(lr.score(X_test, y_test))"
   ]
  },
  {
   "cell_type": "code",
   "execution_count": 29,
   "id": "f1fd04e5",
   "metadata": {},
   "outputs": [
    {
     "name": "stdout",
     "output_type": "stream",
     "text": [
      "[0.82700922 0.86004353 0.8467457  0.84358733 0.8548215 ]\n"
     ]
    }
   ],
   "source": [
    "cv = ShuffleSplit(n_splits=5, test_size=0.2, random_state=0)\n",
    "cross_val_scores = cross_val_score(LinearRegression(), X, y, cv=cv)\n",
    "print(cross_val_scores)"
   ]
  },
  {
   "cell_type": "code",
   "execution_count": 30,
   "id": "339a371d",
   "metadata": {},
   "outputs": [
    {
     "name": "stdout",
     "output_type": "stream",
     "text": [
      "               model  best_score  \\\n",
      "0  linear_regression    0.856066   \n",
      "1              lasso    0.722150   \n",
      "2      decision_tree    0.805289   \n",
      "\n",
      "                                         best_params  \n",
      "0                                                 {}  \n",
      "1                {'alpha': 1, 'selection': 'random'}  \n",
      "2  {'criterion': 'friedman_mse', 'splitter': 'best'}  \n"
     ]
    }
   ],
   "source": [
    "def find_best_model(X, y):\n",
    "    models = {\n",
    "        \"linear_regression\": {\n",
    "            \"model\": LinearRegression(),\n",
    "            \"params\": {}\n",
    "        },\n",
    "        \"lasso\": {\n",
    "            \"model\": Lasso(),\n",
    "            \"params\": {\"alpha\": [1, 2], \"selection\": [\"random\", \"cyclic\"]}\n",
    "        },\n",
    "        \"decision_tree\": {\n",
    "            \"model\": DecisionTreeRegressor(),\n",
    "            \"params\": {\"criterion\": [\"mse\", \"friedman_mse\"], \"splitter\": [\"best\", \"random\"]}\n",
    "        }\n",
    "    }\n",
    "    results = []\n",
    "    cv = ShuffleSplit(n_splits=5, test_size=0.2, random_state=0)\n",
    "    for name, config in models.items():\n",
    "        gs = GridSearchCV(config[\"model\"], config[\"params\"], cv=cv, return_train_score=False)\n",
    "        gs.fit(X, y)\n",
    "        results.append({\"model\": name, \"best_score\": gs.best_score_, \"best_params\": gs.best_params_})\n",
    "    return pd.DataFrame(results, columns=[\"model\", \"best_score\", \"best_params\"])\n",
    "\n",
    "best_model = find_best_model(X_train, y_train)\n",
    "print(best_model)"
   ]
  },
  {
   "cell_type": "code",
   "execution_count": null,
   "id": "a3a01ff9",
   "metadata": {},
   "outputs": [],
   "source": []
  }
 ],
 "metadata": {
  "kernelspec": {
   "display_name": "Python 3 (ipykernel)",
   "language": "python",
   "name": "python3"
  },
  "language_info": {
   "codemirror_mode": {
    "name": "ipython",
    "version": 3
   },
   "file_extension": ".py",
   "mimetype": "text/x-python",
   "name": "python",
   "nbconvert_exporter": "python",
   "pygments_lexer": "ipython3",
   "version": "3.11.5"
  }
 },
 "nbformat": 4,
 "nbformat_minor": 5
}
